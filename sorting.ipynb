{
 "cells": [
  {
   "cell_type": "code",
   "execution_count": 3,
   "id": "6abdcb6a",
   "metadata": {},
   "outputs": [
    {
     "data": {
      "text/plain": [
       "[1, 3, 4, 5, 8]"
      ]
     },
     "execution_count": 3,
     "metadata": {},
     "output_type": "execute_result"
    }
   ],
   "source": [
    "#  bubble sort\n",
    "def bubbleSort(arr):\n",
    "    n = len(arr)\n",
    "    flag = True\n",
    "    while flag:\n",
    "        flag = False\n",
    "        for i in range(1, n):\n",
    "            if arr[i-1]>arr[i]:\n",
    "                flag = True\n",
    "                arr[i], arr[i-1] = arr[i-1], arr[i]\n",
    "    return arr\n",
    "arr = [4,1,3,5,8]\n",
    "bubbleSort(arr)"
   ]
  },
  {
   "cell_type": "code",
   "execution_count": 4,
   "id": "b2071b0a",
   "metadata": {},
   "outputs": [
    {
     "data": {
      "text/plain": [
       "[1, 3, 4, 5, 8]"
      ]
     },
     "execution_count": 4,
     "metadata": {},
     "output_type": "execute_result"
    }
   ],
   "source": [
    "# insertion sort:\n",
    "\n",
    "def insertionSort(arr):\n",
    "    n = len(arr)\n",
    "    for i in range(1, n):\n",
    "        for j in range(i, 0, -1):\n",
    "            if arr[j-1]>arr[j]:\n",
    "                arr[j], arr[j-1] = arr[j-1], arr[j]\n",
    "    return arr\n",
    "\n",
    "arr = [4,1,3,5,8]\n",
    "insertionSort(arr)"
   ]
  },
  {
   "cell_type": "code",
   "execution_count": 8,
   "id": "528e9119",
   "metadata": {},
   "outputs": [
    {
     "data": {
      "text/plain": [
       "[1, 3, 4, 5, 8]"
      ]
     },
     "execution_count": 8,
     "metadata": {},
     "output_type": "execute_result"
    }
   ],
   "source": [
    "# selection sort:\n",
    "\n",
    "def selectionSort(arr):\n",
    "    n = len(arr)\n",
    "    for i in range(n):\n",
    "        min_index = i\n",
    "        for j in range(i, n):\n",
    "            if arr[j]<arr[min_index]:\n",
    "                min_index = j\n",
    "        arr[i], arr[min_index] = arr[min_index], arr[i]\n",
    "    return arr\n",
    "\n",
    "\n",
    "arr = [4,1,3,5,8]\n",
    "selectionSort(arr)\n"
   ]
  },
  {
   "cell_type": "code",
   "execution_count": 10,
   "id": "ae888971",
   "metadata": {},
   "outputs": [],
   "source": [
    "# sort an array(merge sort)\n",
    "from typing import List\n",
    "\n",
    "def sortArray(nums):\n",
    "        if len(nums) <= 1:   # base case\n",
    "            return nums       \n",
    "\n",
    "        mid = len(nums) // 2\n",
    "        \n",
    "        left = sortArray(nums[:mid])\n",
    "        right = sortArray(nums[mid:])\n",
    "\n",
    "        return merge(left, right)\n",
    "\n",
    "def merge(left, right):\n",
    "        result = []\n",
    "        i = j = 0\n",
    "\n",
    "        while i < len(left) and j < len(right):\n",
    "            \n",
    "            if left[i] < right[j]:   \n",
    "                result.append(left[i])\n",
    "                i += 1\n",
    "            else:\n",
    "                result.append(right[j])\n",
    "                j += 1\n",
    "\n",
    "        result.extend(left[i:])   # add leftovers from left\n",
    "        result.extend(right[j:])  # add leftovers from right\n",
    "\n",
    "        return result\n"
   ]
  },
  {
   "cell_type": "code",
   "execution_count": 1,
   "id": "3705b7ff",
   "metadata": {},
   "outputs": [
    {
     "data": {
      "text/plain": [
       "[-4, -2, -1, 1, 5]"
      ]
     },
     "execution_count": 1,
     "metadata": {},
     "output_type": "execute_result"
    }
   ],
   "source": [
    "# quick sort:\n",
    "\n",
    "def quick_sort(arr):\n",
    "    if len(arr)<=1:\n",
    "        return arr\n",
    "    p = arr[-1]\n",
    "    L = [x for x in arr[:-1] if x<=p]\n",
    "    R = [x for x in arr[:-1] if x>p]\n",
    "\n",
    "    L = quick_sort(L)\n",
    "    R = quick_sort(R)\n",
    "\n",
    "    return L+[p]+R\n",
    "\n",
    "arr = [-2,1,-4,5,-1]\n",
    "quick_sort(arr)"
   ]
  },
  {
   "cell_type": "code",
   "execution_count": 2,
   "id": "0d998878",
   "metadata": {},
   "outputs": [
    {
     "data": {
      "text/plain": [
       "[0, 0, 0, 1, 1, 1, 2]"
      ]
     },
     "execution_count": 2,
     "metadata": {},
     "output_type": "execute_result"
    }
   ],
   "source": [
    "# Leet code 75. Sort Colors:(sort 0's, 1's, 2's)\n",
    "\n",
    "def sort_color(arr):\n",
    "    low, mid, high = 0,0,len(arr)-1\n",
    "    while mid<=high:\n",
    "        if arr[mid] == 0:\n",
    "            arr[low], arr[mid] = arr[mid], arr[low]\n",
    "            low+=1\n",
    "            mid+=1\n",
    "        elif arr[mid] == 1:\n",
    "            mid+=1\n",
    "        else:\n",
    "            arr[mid], arr[high] = arr[high], arr[mid]\n",
    "            high -=1\n",
    "\n",
    "    return arr\n",
    "arr = [1,1,0,2,0,1,0]\n",
    "sort_color(arr)"
   ]
  },
  {
   "cell_type": "code",
   "execution_count": 1,
   "id": "a50d78ee",
   "metadata": {},
   "outputs": [
    {
     "data": {
      "text/plain": [
       "[[1, 6], [8, 10], [15, 18]]"
      ]
     },
     "execution_count": 1,
     "metadata": {},
     "output_type": "execute_result"
    }
   ],
   "source": [
    "# merge intervals:\n",
    "\n",
    "def merge(intervals):\n",
    "    intervals.sort(key = lambda x:x[0])\n",
    "    merged = []\n",
    "    for interval in intervals:\n",
    "        if not merged or merged[-1][1]<interval[0]:\n",
    "            merged.append(interval)\n",
    "        else:\n",
    "            merged[-1][1] = max(merged[-1][1], interval[1])\n",
    "    return merged\n",
    "intervals = [[1,3],[2,6],[8,10],[15,18]]\n",
    "merge(intervals)"
   ]
  },
  {
   "cell_type": "code",
   "execution_count": null,
   "id": "4987ef36",
   "metadata": {},
   "outputs": [
    {
     "data": {
      "text/plain": [
       "2"
      ]
     },
     "execution_count": 3,
     "metadata": {},
     "output_type": "execute_result"
    }
   ],
   "source": [
    "# Meeting Rooms II:\n",
    "\n",
    "def minMeetingRooms(intervals):\n",
    "        if not intervals:\n",
    "            return 0\n",
    "        starts = sorted([i[0] for i in intervals]) # use i.start if u r using neetcode\n",
    "        end = sorted([i[1] for i in intervals])    # use i.ens if u r using neetcode\n",
    "        res=0\n",
    "        count = 0\n",
    "        end_ptr = 0\n",
    "\n",
    "        for start in starts:\n",
    "            if start < end[end_ptr]: # overlapping\n",
    "                count+=1\n",
    "                res = max(res, count)\n",
    "            else:\n",
    "                end_ptr+=1\n",
    "        return res\n",
    "\n",
    "intervals = [(0,40),(5,10),(15,20)]\n",
    "minMeetingRooms(intervals)"
   ]
  },
  {
   "cell_type": "code",
   "execution_count": 6,
   "id": "0d5c39be",
   "metadata": {},
   "outputs": [
    {
     "data": {
      "text/plain": [
       "5"
      ]
     },
     "execution_count": 6,
     "metadata": {},
     "output_type": "execute_result"
    }
   ],
   "source": [
    "# K^th largest element in an array:\n",
    "import heapq\n",
    "def find_largest(nums, k):\n",
    "    return heapq.nlargest(k, nums)[-1]\n",
    "\n",
    "nums = [3,2,1,5,6,4]\n",
    "k = 2\n",
    "find_largest(nums, k)"
   ]
  },
  {
   "cell_type": "code",
   "execution_count": null,
   "id": "fd7ef674",
   "metadata": {},
   "outputs": [],
   "source": []
  }
 ],
 "metadata": {
  "kernelspec": {
   "display_name": "Python 3",
   "language": "python",
   "name": "python3"
  },
  "language_info": {
   "codemirror_mode": {
    "name": "ipython",
    "version": 3
   },
   "file_extension": ".py",
   "mimetype": "text/x-python",
   "name": "python",
   "nbconvert_exporter": "python",
   "pygments_lexer": "ipython3",
   "version": "3.11.9"
  }
 },
 "nbformat": 4,
 "nbformat_minor": 5
}
