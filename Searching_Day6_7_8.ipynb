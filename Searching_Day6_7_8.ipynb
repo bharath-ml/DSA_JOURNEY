{
 "cells": [
  {
   "cell_type": "markdown",
   "id": "2fa48a8e",
   "metadata": {},
   "source": [
    "# Day 6 (Basics + Classic BS)\n",
    "\n",
    "### Linear Search\n",
    "\n",
    "### Binary Search (basic)\n",
    "\n",
    "### Search Insert Position\n",
    "\n",
    "### First Occurrence of Element\n",
    "\n",
    "### Last Occurrence of Element\n",
    "\n",
    "### Count of Element in Sorted Array"
   ]
  },
  {
   "cell_type": "code",
   "execution_count": null,
   "id": "08e5298d",
   "metadata": {},
   "outputs": [
    {
     "data": {
      "text/plain": [
       "4"
      ]
     },
     "execution_count": 2,
     "metadata": {},
     "output_type": "execute_result"
    }
   ],
   "source": [
    "# LINEAR SEARCH:\n",
    "# iterating through index of all elements until target element found:\n",
    "\n",
    "def Linear_Search(arr, target):\n",
    "    for i in range(len(arr)):\n",
    "        if arr[i] == target:\n",
    "            return i\n",
    "    return -1\n",
    "\n",
    "arr = [1,10,4,2,8]\n",
    "target = 8\n",
    "Linear_Search(arr, target)\n",
    "\n",
    "# Time: O(n), Space: O(1)\n",
    "# Use only if array is unsorted/small\n",
    "\n",
    "# ⚠️ Edge Cases:\n",
    "        # Empty array → return -1.\n",
    "        # Multiple occurrences → usually return first index.\n",
    "# 🐞 Debugging Tips:\n",
    "        # Print index/value during loop to trace.\n",
    "        # Confirm loop goes till len(arr) (not off-by-one)."
   ]
  },
  {
   "cell_type": "code",
   "execution_count": 5,
   "id": "5c52ef25",
   "metadata": {},
   "outputs": [
    {
     "data": {
      "text/plain": [
       "4"
      ]
     },
     "execution_count": 5,
     "metadata": {},
     "output_type": "execute_result"
    }
   ],
   "source": [
    "# 2️⃣ Binary Search (Basic):\n",
    "\n",
    "# Concept\n",
    "     # Requires sorted array.\n",
    "     # Divide search range in half each step.\n",
    "\n",
    "def binary_search(arr, target):\n",
    "    low, high = 0, len(arr)-1\n",
    "    while low<=high:\n",
    "        mid = (low+high)//2\n",
    "        if arr[mid] == target:\n",
    "            return mid\n",
    "        elif arr[mid]<target:\n",
    "            low = mid + 1\n",
    "        else:\n",
    "            high = mid - 1\n",
    "    return -1\n",
    "arr = [1,10,4,2,8]\n",
    "target = 8\n",
    "binary_search(arr,target)\n",
    "\n",
    "# Time: O(1), Space: O(1)\n",
    "\n",
    "# 🐞 Debugging Tips\n",
    "    # Ensure low <= high not low < high.\n",
    "    # Use mid = low + (high-low)//2 to avoid overflow (important in C++/Java).\n",
    "# ⚠️ Edge Cases\n",
    "    # Target not present → return -1.\n",
    "    # Array size 1 → must still work.\n"
   ]
  },
  {
   "cell_type": "code",
   "execution_count": null,
   "id": "fce35dd9",
   "metadata": {},
   "outputs": [
    {
     "data": {
      "text/plain": [
       "1"
      ]
     },
     "execution_count": 7,
     "metadata": {},
     "output_type": "execute_result"
    }
   ],
   "source": [
    "# 3️⃣ Search Insert Position:\n",
    "\n",
    "# 🔑 Concept\n",
    "    # If element found → return index.\n",
    "    # If not found → return position where it would be inserted.\n",
    "    # Time: O(log n).\n",
    "\n",
    "def insert_search(arr, target):\n",
    "    low, high = 0, len(arr)-1\n",
    "    while low<=high:\n",
    "        mid = (low+high)//2\n",
    "        if arr[mid] == target:\n",
    "            return mid\n",
    "        elif arr[mid]<target:\n",
    "            low= mid+1\n",
    "        else:\n",
    "            high = mid-1\n",
    "    return low            # because low is the first index where target could go\n",
    "\n",
    "# arr = [1, 3, 5, 6]\n",
    "# target = 5\n",
    "# insert_search(arr, target)\n",
    "arr = [1, 3, 5, 6]\n",
    "target = 2\n",
    "insert_search(arr, target)\n",
    "\n",
    "# ⚠️ Edge Cases\n",
    "    # Insert at beginning (target < nums[0]).\n",
    "    # Insert at end (target > nums[-1]).\n",
    "\n",
    "# 🐞 Debugging Tips\n",
    "#     Always return low after loop → represents valid insert pos."
   ]
  },
  {
   "cell_type": "code",
   "execution_count": null,
   "id": "cc8f543d",
   "metadata": {},
   "outputs": [
    {
     "data": {
      "text/plain": [
       "2"
      ]
     },
     "execution_count": 8,
     "metadata": {},
     "output_type": "execute_result"
    }
   ],
   "source": [
    "# First Occurrence of Element:\n",
    "\n",
    "def first_occurence(arr, target):\n",
    "    low, high = 0, len(arr)-1\n",
    "    result = -1       \n",
    "    while low<=high:\n",
    "        mid = (low+high)//2\n",
    "        if arr[mid] == target:\n",
    "            result = mid\n",
    "            high = mid-1\n",
    "        elif arr[mid]<target:\n",
    "            low = mid+1\n",
    "        else:\n",
    "            high = mid-1\n",
    "    return result\n",
    "\n",
    "arr = [1, 2, 4, 4, 4, 5, 6]\n",
    "target = 4\n",
    "first_occurence(arr, target)\n",
    "\n",
    "# Time: O(log n) — each iteration halves (or roughly halves) the search interval.\n",
    "# Space: O(1) — only a few variables used.\n"
   ]
  },
  {
   "cell_type": "code",
   "execution_count": 9,
   "id": "1df2f81e",
   "metadata": {},
   "outputs": [
    {
     "data": {
      "text/plain": [
       "4"
      ]
     },
     "execution_count": 9,
     "metadata": {},
     "output_type": "execute_result"
    }
   ],
   "source": [
    "# 5️⃣ Last Occurrence of Element:\n",
    "\n",
    "def last_occurence(arr, target):\n",
    "    low, high = 0, len(arr)-1\n",
    "    result = -1\n",
    "    while low<=high:\n",
    "        mid = (low+high)//2\n",
    "        if arr[mid] == target:\n",
    "            result = mid\n",
    "            low = mid+1\n",
    "        elif arr[mid]<target:\n",
    "            low = mid+1\n",
    "        else:\n",
    "            high = mid-1\n",
    "    return result\n",
    "\n",
    "arr = [1, 2, 4, 4, 4, 5, 6]\n",
    "target = 4\n",
    "last_occurence(arr, target)"
   ]
  },
  {
   "cell_type": "code",
   "execution_count": null,
   "id": "a8089f10",
   "metadata": {},
   "outputs": [
    {
     "data": {
      "text/plain": [
       "[2, 4]"
      ]
     },
     "execution_count": 10,
     "metadata": {},
     "output_type": "execute_result"
    }
   ],
   "source": [
    "# find first and last occurence position of elements:\n",
    "\n",
    "def first_and_last_occurrence(arr, target):\n",
    "    def find_first(arr, target):\n",
    "        low, high = 0, len(arr) - 1\n",
    "        first = -1\n",
    "        while low <= high:\n",
    "            mid = (low + high) // 2\n",
    "            if arr[mid] == target:\n",
    "                first = mid       # store answer\n",
    "                high = mid - 1    # move left to find earlier occurrence\n",
    "            elif arr[mid] < target:\n",
    "                low = mid + 1\n",
    "            else:\n",
    "                high = mid - 1\n",
    "        return first\n",
    "\n",
    "    def find_last(arr, target):\n",
    "        low, high = 0, len(arr) - 1\n",
    "        last = -1\n",
    "        while low <= high:\n",
    "            mid = (low + high) // 2\n",
    "            if arr[mid] == target:\n",
    "                last = mid        # store answer\n",
    "                low = mid + 1     # move right to find later occurrence\n",
    "            elif arr[mid] < target:\n",
    "                low = mid + 1\n",
    "            else:\n",
    "                high = mid - 1\n",
    "        return last\n",
    "\n",
    "    return [find_first(arr, target), find_last(arr, target)]\n",
    "\n",
    "arr = [1, 2, 4, 4, 4, 5, 6]\n",
    "target = 4\n",
    "first_and_last_occurrence(arr, target)\n",
    "\n",
    "# ⏱ Time Complexity: O(log n)\n"
   ]
  },
  {
   "cell_type": "code",
   "execution_count": null,
   "id": "e9297282",
   "metadata": {},
   "outputs": [
    {
     "data": {
      "text/plain": [
       "3"
      ]
     },
     "execution_count": 11,
     "metadata": {},
     "output_type": "execute_result"
    }
   ],
   "source": [
    "# 6️⃣ Count of Element in Sorted Array:\n",
    "\n",
    "def count_occurrences(arr, target):\n",
    "    def find_first(arr, target):\n",
    "        low, high = 0, len(arr) - 1\n",
    "        first = -1\n",
    "        while low <= high:\n",
    "            mid = (low + high) // 2\n",
    "            if arr[mid] == target:\n",
    "                first = mid\n",
    "                high = mid - 1   # move left\n",
    "            elif arr[mid] < target:\n",
    "                low = mid + 1\n",
    "            else:\n",
    "                high = mid - 1\n",
    "        return first\n",
    "\n",
    "    def find_last(arr, target):\n",
    "        low, high = 0, len(arr) - 1\n",
    "        last = -1\n",
    "        while low <= high:\n",
    "            mid = (low + high) // 2\n",
    "            if arr[mid] == target:\n",
    "                last = mid\n",
    "                low = mid + 1   # move right\n",
    "            elif arr[mid] < target:\n",
    "                low = mid + 1\n",
    "            else:\n",
    "                high = mid - 1\n",
    "        return last\n",
    "\n",
    "    first = find_first(arr, target)\n",
    "    last = find_last(arr, target)\n",
    "\n",
    "    if first == -1:  # element not found\n",
    "        return 0\n",
    "    return last - first + 1\n",
    "\n",
    "arr = [1, 2, 4, 4, 4, 5, 6]\n",
    "target = 4\n",
    "count_occurrences(arr, target)\n",
    "\n",
    "# ⏱ Time Complexity: O(log n)"
   ]
  },
  {
   "cell_type": "markdown",
   "id": "40939065",
   "metadata": {},
   "source": [
    "# Day 7 (Binary Search Variants)\n",
    "\n",
    "## Square Root of x (integer BS)\n",
    "\n",
    "## Peak Element in Array\n",
    "\n",
    "## Search in Rotated Sorted Array\n",
    "\n",
    "## Find Minimum in Rotated Sorted Array\n",
    "\n",
    "## Single Element in Sorted Array (appears once)"
   ]
  },
  {
   "cell_type": "code",
   "execution_count": null,
   "id": "af70728a",
   "metadata": {},
   "outputs": [
    {
     "data": {
      "text/plain": [
       "2"
      ]
     },
     "execution_count": 2,
     "metadata": {},
     "output_type": "execute_result"
    }
   ],
   "source": [
    "# sqrt of x:\n",
    "# Newton (heron's) method:\n",
    "\n",
    "def sqrt(x):\n",
    "    if x<0:\n",
    "        raise ValueError(\"sqrt can't be applicable for -ve numbers\")\n",
    "    if x<2:\n",
    "        return x\n",
    "    g = x    #intialize\n",
    "    while g > x//g:\n",
    "        g = (g + x // g)//2\n",
    "    return g\n",
    "sqrt(4)\n",
    "\n",
    "# tc:O(log log x) > binary search(tc:O(log x))\n",
    "\n"
   ]
  },
  {
   "cell_type": "code",
   "execution_count": 5,
   "id": "534c5932",
   "metadata": {},
   "outputs": [
    {
     "data": {
      "text/plain": [
       "8"
      ]
     },
     "execution_count": 5,
     "metadata": {},
     "output_type": "execute_result"
    }
   ],
   "source": [
    "# peak element in array:\n",
    "\n",
    "def peak_element(nums):\n",
    "    low, high = 0, len(nums)-1\n",
    "    while low<high:\n",
    "        mid = (low+high)//2\n",
    "        if nums[mid] < nums[high]:\n",
    "            low = mid+1\n",
    "        else:\n",
    "            high = mid\n",
    "    return nums[low]\n",
    "\n",
    "nums = [4,5,6,7,0,1,2,8]\n",
    "peak_element(nums)\n"
   ]
  },
  {
   "cell_type": "code",
   "execution_count": 3,
   "id": "ec4bf655",
   "metadata": {},
   "outputs": [],
   "source": [
    "# search on rotated array already completed in day-5"
   ]
  },
  {
   "cell_type": "code",
   "execution_count": null,
   "id": "42535a0a",
   "metadata": {},
   "outputs": [],
   "source": [
    "# Find Minimum in Rotated Sorted Array\n",
    "\n",
    "# 📌 LeetCode 153\n",
    "# Given a rotated sorted array (no duplicates), find the minimum element in O(log n).\n",
    "\n",
    "# Intuition & Process:\n",
    "#     Keep two pointers: low, high.\n",
    "#     While low < high:\n",
    "#     Find mid.\n",
    "#     If nums[mid] > nums[high], the min is right side → move low = mid + 1.\n",
    "#     Else, the min is left side → move high = mid.\n",
    "#     When loop ends, low == high → the index of min element.\n",
    "\n",
    "def findmin(nums):\n",
    "    low, high = 0, len(nums)-1\n",
    "    while low<high:\n",
    "        mid = (low+high)//2\n",
    "        if nums[mid]>nums[high]: #min will be right side\n",
    "            low = mid+1\n",
    "        else:\n",
    "            high = mid  #min in left half including mid\n",
    "    return nums[low]\n",
    "nums = [4,5,6,7,0,1,2]\n",
    "findmin(nums)"
   ]
  },
  {
   "cell_type": "code",
   "execution_count": null,
   "id": "0be1efc7",
   "metadata": {},
   "outputs": [
    {
     "data": {
      "text/plain": [
       "3"
      ]
     },
     "execution_count": 8,
     "metadata": {},
     "output_type": "execute_result"
    }
   ],
   "source": [
    "# single element in sorted array:\n",
    "\n",
    "def single_element(nums):\n",
    "    low, high = 0, len(nums)-1\n",
    "    while low<high:\n",
    "        mid = (low+high)//2\n",
    "        # make sure mid is even\n",
    "        if mid%2 == 1:\n",
    "            mid-=1 \n",
    "        if nums[mid] == nums[mid+1]:  #element on right side\n",
    "            low = mid+2\n",
    "        else:\n",
    "            high = mid\n",
    "    return nums[low]\n",
    "\n",
    "nums = [1,1,2,2,3,4,4,8,8]\n",
    "single_element(nums)"
   ]
  },
  {
   "cell_type": "markdown",
   "id": "011bb24d",
   "metadata": {},
   "source": [
    "# Day 8 (Binary Search on Answer – Hard)\n",
    "\n",
    "\n",
    "## Koko Eating Bananas\n",
    "\n",
    "## Median of Two Sorted Arrays\n",
    "\n",
    "## Smallest Divisor Given Threshold"
   ]
  },
  {
   "cell_type": "code",
   "execution_count": null,
   "id": "4ae18d1c",
   "metadata": {},
   "outputs": [
    {
     "data": {
      "text/plain": [
       "4"
      ]
     },
     "execution_count": 6,
     "metadata": {},
     "output_type": "execute_result"
    }
   ],
   "source": [
    "# 875. Koko Eating Bananas\n",
    "from math import ceil\n",
    "\n",
    "def minEatingSpeed(piles, h):\n",
    "    low, high = 1, max(piles)\n",
    "    def can_eat(speed):\n",
    "        hours = 0\n",
    "        for pile in piles:\n",
    "            hours += ceil(pile/speed)\n",
    "        return hours<=h\n",
    "    while low<high:\n",
    "        mid = (low+high)//2\n",
    "        if can_eat(mid):\n",
    "            high = mid\n",
    "        else:\n",
    "            low = mid+1\n",
    "    return low\n",
    "\n",
    "piles = [3,6,7,11]\n",
    "h = 8\n",
    "minEatingSpeed(piles, h)"
   ]
  },
  {
   "cell_type": "code",
   "execution_count": null,
   "id": "a45c1ee5",
   "metadata": {},
   "outputs": [
    {
     "data": {
      "text/plain": [
       "2"
      ]
     },
     "execution_count": 7,
     "metadata": {},
     "output_type": "execute_result"
    }
   ],
   "source": [
    "# 4. Median of Two Sorted Arrays\n",
    "def findMedianSortedArrays(nums1, nums2):\n",
    "    l = nums1 + nums2\n",
    "    l.sort()\n",
    "    if len(l) % 2 != 0:\n",
    "        return l[len(l) // 2]\n",
    "    else:\n",
    "        return (l[len(l) // 2] + l[(len(l) // 2) - 1]) / 2.0\n",
    "\n",
    "nums1 = [1,3]\n",
    "nums2 = [2]\n",
    "findMedianSortedArrays(nums1, nums2)"
   ]
  },
  {
   "cell_type": "code",
   "execution_count": null,
   "id": "8faeba69",
   "metadata": {},
   "outputs": [
    {
     "data": {
      "text/plain": [
       "5"
      ]
     },
     "execution_count": 9,
     "metadata": {},
     "output_type": "execute_result"
    }
   ],
   "source": [
    "# 1283. Find the Smallest Divisor Given a Threshold\n",
    "def smallestDivisor(nums,threshold):\n",
    "        def condition(divisor) -> bool:\n",
    "            return sum((num - 1) // divisor + 1 for num in nums) <= threshold\n",
    "\n",
    "        left, right = 1, max(nums)\n",
    "        while left < right:\n",
    "            mid = left + (right - left) // 2\n",
    "            if condition(mid):\n",
    "                right = mid\n",
    "            else:\n",
    "                left = mid + 1\n",
    "        return left\n",
    "nums = [1,2,5,9]\n",
    "threshold = 6\n",
    "smallestDivisor(nums,threshold)\n"
   ]
  },
  {
   "cell_type": "code",
   "execution_count": null,
   "id": "9e57a5a0",
   "metadata": {},
   "outputs": [],
   "source": []
  }
 ],
 "metadata": {
  "kernelspec": {
   "display_name": "Python 3",
   "language": "python",
   "name": "python3"
  },
  "language_info": {
   "codemirror_mode": {
    "name": "ipython",
    "version": 3
   },
   "file_extension": ".py",
   "mimetype": "text/x-python",
   "name": "python",
   "nbconvert_exporter": "python",
   "pygments_lexer": "ipython3",
   "version": "3.11.9"
  }
 },
 "nbformat": 4,
 "nbformat_minor": 5
}
