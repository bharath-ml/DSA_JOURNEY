{
 "cells": [
  {
   "cell_type": "code",
   "execution_count": null,
   "id": "e9003cf9",
   "metadata": {},
   "outputs": [
    {
     "data": {
      "text/plain": [
       "(1, 10)"
      ]
     },
     "execution_count": 2,
     "metadata": {},
     "output_type": "execute_result"
    }
   ],
   "source": [
    "def find_min_max(arr):\n",
    "    if not arr:\n",
    "        return None,None\n",
    "    min_value, max_value = arr[0],arr[1]\n",
    "    for num in arr[1:]:\n",
    "        if num<min_value:\n",
    "            num = min_value\n",
    "        elif num>max_value:\n",
    "            num = max_value\n",
    "    return min_value,max_value\n",
    "arr = [1,10,2,5,7]\n",
    "find_min_max(arr)\n",
    "\n",
    "# o(n)\n",
    "# o(1)"
   ]
  },
  {
   "cell_type": "code",
   "execution_count": 3,
   "id": "b8d422cc",
   "metadata": {},
   "outputs": [
    {
     "data": {
      "text/plain": [
       "False"
      ]
     },
     "execution_count": 3,
     "metadata": {},
     "output_type": "execute_result"
    }
   ],
   "source": [
    "# Check if Array is Sorted\n",
    "def is_sorted(arr):\n",
    "    n = len(arr)\n",
    "    for i in range(n-1):\n",
    "        if arr[i]>arr[i+1]:\n",
    "            return False\n",
    "    return True\n",
    "arr = [1,2,3,46,5]\n",
    "is_sorted(arr)\n",
    "\n",
    "\n",
    "\n"
   ]
  },
  {
   "cell_type": "code",
   "execution_count": 7,
   "id": "d5c525a0",
   "metadata": {},
   "outputs": [
    {
     "name": "stdout",
     "output_type": "stream",
     "text": [
      "[1, 3, 4, 0, 0, 0]\n"
     ]
    }
   ],
   "source": [
    "# move zeroes to end without changing the order:\n",
    "def move_zeroes(nums):\n",
    "    first = 0\n",
    "    for i in range(len(nums)):\n",
    "        if nums[i] != 0:\n",
    "            nums[first] = nums[i]\n",
    "            first += 1\n",
    "    for i in range(first, len(nums)):\n",
    "        nums[i] = 0\n",
    "\n",
    "nums = [0, 1, 0, 3, 4, 0]\n",
    "move_zeroes(nums)\n",
    "print(nums)\n"
   ]
  },
  {
   "cell_type": "code",
   "execution_count": null,
   "id": "cc29ec64",
   "metadata": {},
   "outputs": [
    {
     "data": {
      "text/plain": [
       "[1, 2]"
      ]
     },
     "execution_count": 1,
     "metadata": {},
     "output_type": "execute_result"
    }
   ],
   "source": [
    "# two sum:hashmap or use two pointers(if sorted):\n",
    "# intialize a dic, check if complement in dic,yes return indices, else store num in dic\n",
    "def two_sum(array, target):\n",
    "    seen = {}\n",
    "    for i, num in enumerate(array):\n",
    "        comp = target - num\n",
    "        if comp in seen:\n",
    "            return [seen[comp], i]\n",
    "        seen[num] = i\n",
    "    return None\n",
    "array = [1,2,7,9]\n",
    "target = 9\n",
    "two_sum(array, target)\n",
    "\n",
    "# tc = o(n)\n",
    "# sc = o(n)"
   ]
  },
  {
   "cell_type": "code",
   "execution_count": 2,
   "id": "ba39c6f8",
   "metadata": {},
   "outputs": [
    {
     "data": {
      "text/plain": [
       "5"
      ]
     },
     "execution_count": 2,
     "metadata": {},
     "output_type": "execute_result"
    }
   ],
   "source": [
    "# best time to buy and sell stocks:\n",
    "def profit(prices):\n",
    "    min_profit = float(\"inf\")\n",
    "    max_profit = 0\n",
    "    for price in prices:\n",
    "        min_profit = min(min_profit, price)\n",
    "        max_profit  = max(max_profit, price-min_profit)\n",
    "    return max_profit\n",
    "prices = [7,1,5,3,6,4]\n",
    "profit(prices)\n"
   ]
  },
  {
   "cell_type": "code",
   "execution_count": null,
   "id": "f7c5cba0",
   "metadata": {},
   "outputs": [
    {
     "data": {
      "text/plain": [
       "6"
      ]
     },
     "execution_count": 4,
     "metadata": {},
     "output_type": "execute_result"
    }
   ],
   "source": [
    "# kadanes algorithm:max_sum_subarray, contiguous sum of subarray\n",
    "def max_sub(array):\n",
    "    current_sum = max_sum = array[0]\n",
    "    for i in range(1, len(array)):\n",
    "        current_sum = max(array[i], array[i]+current_sum)\n",
    "        max_sum = max(current_sum, max_sum)\n",
    "    return max_sum\n",
    "array = [-2,1,-3,4,-1,2,1,-5,4]\n",
    "max_sub(array)\n",
    "#tc = o(n) for loop: traversing through each elemrnt\n",
    "# sc = o(1) inplace = changing input directly"
   ]
  },
  {
   "cell_type": "code",
   "execution_count": 4,
   "id": "3e4b3f21",
   "metadata": {},
   "outputs": [
    {
     "data": {
      "text/plain": [
       "[4, 5, 6, 1, 2, 3]"
      ]
     },
     "execution_count": 4,
     "metadata": {},
     "output_type": "execute_result"
    }
   ],
   "source": [
    "# reversing elements by k:\n",
    "def rotate(nums, k):\n",
    "    n = len(nums)\n",
    "    k = k%n\n",
    "    def reverse(left, right):\n",
    "        while left<right:\n",
    "            nums[left], nums[right] = nums[right], nums[left]\n",
    "            left += 1\n",
    "            right -= 1\n",
    "    # reverse whole array\n",
    "    reverse(0, n-1) \n",
    "\n",
    "    # reversing by k\n",
    "    reverse(0, k-1)\n",
    "\n",
    "    # reversing other nums\n",
    "    reverse(k, n-1)\n",
    "    return nums\n",
    "\n",
    "\n",
    "nums = [1,2,3,4,5,6]\n",
    "k = 3\n",
    "rotate(nums, k)\n",
    "\n"
   ]
  },
  {
   "cell_type": "markdown",
   "id": "ec17ea30",
   "metadata": {},
   "source": [
    "#### Boyer-Moore Voting Algorithm"
   ]
  },
  {
   "cell_type": "code",
   "execution_count": 7,
   "id": "f4030e0b",
   "metadata": {},
   "outputs": [
    {
     "data": {
      "text/plain": [
       "1"
      ]
     },
     "execution_count": 7,
     "metadata": {},
     "output_type": "execute_result"
    }
   ],
   "source": [
    "# majority element:\n",
    "def majority(nums):\n",
    "    candidate, count = None, 0\n",
    "    for num in nums:\n",
    "        if count == 0:\n",
    "            candidate = num\n",
    "        count+=(1 if num == candidate else -1)\n",
    "    return candidate\n",
    "\n",
    "nums = [2,2,1,1,1,2]\n",
    "majority(nums)"
   ]
  },
  {
   "cell_type": "code",
   "execution_count": 3,
   "id": "303cebdd",
   "metadata": {},
   "outputs": [
    {
     "data": {
      "text/plain": [
       "[[1, 6], [8, 10], [15, 18]]"
      ]
     },
     "execution_count": 3,
     "metadata": {},
     "output_type": "execute_result"
    }
   ],
   "source": [
    "# Merge Intervals:\n",
    "\n",
    "def merge(intervals):\n",
    "    intervals.sort(key = lambda x:x[0])\n",
    "    merged = []\n",
    "    for interval in intervals:\n",
    "        if not merged or merged[-1][1]<interval[0]:\n",
    "            merged.append(interval)\n",
    "        else:\n",
    "            merged[-1][1] = max(merged[-1][1], interval[1])\n",
    "    return merged\n",
    "\n",
    "intervals= [[1,3],[2,6],[8,10],[15,18]]\n",
    "merge(intervals)"
   ]
  },
  {
   "cell_type": "code",
   "execution_count": null,
   "id": "ea2688b5",
   "metadata": {},
   "outputs": [
    {
     "data": {
      "text/plain": [
       "[24, 12, 8, 6]"
      ]
     },
     "execution_count": 4,
     "metadata": {},
     "output_type": "execute_result"
    }
   ],
   "source": [
    "# product of array except self:\n",
    "\n",
    "def product_arr(nums):\n",
    "    n = len(nums)\n",
    "    res = [1]*n\n",
    "\n",
    "    prefix = 1\n",
    "    for i in range(n):\n",
    "        res[i] = prefix\n",
    "        prefix *= nums[i]                                   #|----> need clarification, revision\n",
    "    suffix = 1                                              #|\n",
    "    for i in range(n-1, -1, -1):\n",
    "        res[i] *= suffix\n",
    "        suffix*=nums[i]\n",
    "\n",
    "    return res\n",
    "nums = [1, 2, 3, 4]\n",
    "product_arr(nums)\n"
   ]
  },
  {
   "cell_type": "code",
   "execution_count": 8,
   "id": "7faf8115",
   "metadata": {},
   "outputs": [
    {
     "data": {
      "text/plain": [
       "[[-1, 2, -1], [-1, 1, 0]]"
      ]
     },
     "execution_count": 8,
     "metadata": {},
     "output_type": "execute_result"
    }
   ],
   "source": [
    "# three sum:\n",
    "\n",
    "def three_sum(nums):\n",
    "    nums.sort()\n",
    "    res = []\n",
    "\n",
    "    for i in range(len(nums)):\n",
    "        # skipping duplicates:\n",
    "        if i>0 and nums[i] == nums[i-1]:\n",
    "            continue\n",
    "        l,r = i+1, len(nums)-1\n",
    "        while l<r:\n",
    "            total = nums[i] + nums[r] + nums[l]\n",
    "            if total < 0:\n",
    "                l+=1\n",
    "            elif total>0:\n",
    "                r-=1\n",
    "            else:\n",
    "                res.append([nums[i], nums[r], nums[l]])\n",
    "\n",
    "                while l< r and nums[l] == nums[l+1]:\n",
    "                    l += 1\n",
    "                while l<r and nums[r] == nums[r-1]:\n",
    "                    r -= 1\n",
    "                l += 1\n",
    "                r -= 1\n",
    "    return res\n",
    "nums = [-1,0,1,2,-1,-4]\n",
    "three_sum(nums)\n",
    "            \n",
    "    "
   ]
  },
  {
   "cell_type": "code",
   "execution_count": 2,
   "id": "34ce0814",
   "metadata": {},
   "outputs": [
    {
     "data": {
      "text/plain": [
       "6"
      ]
     },
     "execution_count": 2,
     "metadata": {},
     "output_type": "execute_result"
    }
   ],
   "source": [
    "# trapping rain water:\n",
    "# we need to store water at height(i), we check left, right max(will take min out of left, right max, so water dont spill out)\n",
    "# water = water+left or right_max-height(i)[we have to remove given height, ti know which water filled]:\n",
    "def rain(height):\n",
    "    l, r = 0, len(height)-1\n",
    "    left_max, right_max = 0, 0\n",
    "    water = 0\n",
    "    while l<r:\n",
    "        if height[l]<height[r]:\n",
    "            if height[l]>= left_max:\n",
    "                left_max = height[l]\n",
    "            else:\n",
    "                water += left_max-height[l]\n",
    "            l+=1\n",
    "        else:\n",
    "            if height[r]>=right_max:\n",
    "                right_max = height[r]\n",
    "            else:\n",
    "                water+=right_max-height[r]\n",
    "            r-=1\n",
    "    return water\n",
    "\n",
    "height = [0,1,0,2,1,0,1,3,2,1,2,1]\n",
    "rain(height)"
   ]
  },
  {
   "cell_type": "code",
   "execution_count": 4,
   "id": "4654612a",
   "metadata": {},
   "outputs": [
    {
     "data": {
      "text/plain": [
       "24"
      ]
     },
     "execution_count": 4,
     "metadata": {},
     "output_type": "execute_result"
    }
   ],
   "source": [
    "# MAXIMUM PRODUCT SUBARRAY:\n",
    "def max_product(nums):\n",
    "    current_min=current_max=max_prod=nums[0]\n",
    "    for i in range(1, len(nums)):\n",
    "        if nums[i]<0:\n",
    "            current_max, current_min = current_min, current_max\n",
    "        current_min = min(nums[i], nums[i]*current_min)\n",
    "        current_max = max(nums[i], nums[i]*current_max)\n",
    "        max_prod = max(max_prod, current_max)\n",
    "    return max_prod\n",
    "nums = [2, -5, -2, -4, 3]\n",
    "max_product(nums)"
   ]
  },
  {
   "cell_type": "code",
   "execution_count": 6,
   "id": "a2cf80a5",
   "metadata": {},
   "outputs": [
    {
     "data": {
      "text/plain": [
       "4"
      ]
     },
     "execution_count": 6,
     "metadata": {},
     "output_type": "execute_result"
    }
   ],
   "source": [
    "# SEARCH IN ROTATED SORTED ARRAY:\n",
    "def search(nums, target):\n",
    "    left, right = 0, len(nums)-1\n",
    "    while left<=right:\n",
    "        mid = (left+right)//2\n",
    "        if nums[mid] == target:\n",
    "            return mid\n",
    "        \n",
    "        if nums[left]<=nums[mid]:\n",
    "            if nums[left]<=target<nums[mid]:\n",
    "                right = mid-1\n",
    "            else:\n",
    "                left = mid+1\n",
    "        else:\n",
    "            if nums[mid]<target<=nums[right]:\n",
    "                left = mid+1\n",
    "            else:\n",
    "                right = mid-1\n",
    "    return -1\n",
    "nums = [4,5,6,7,0,1,2]\n",
    "target = 0\n",
    "search(nums, target)\n"
   ]
  },
  {
   "cell_type": "code",
   "execution_count": 7,
   "id": "89859470",
   "metadata": {},
   "outputs": [
    {
     "data": {
      "text/plain": [
       "49"
      ]
     },
     "execution_count": 7,
     "metadata": {},
     "output_type": "execute_result"
    }
   ],
   "source": [
    "# CONTAINER WITH MOST WATER:\n",
    "def container(height):\n",
    "    left, right = 0, len(height)-1\n",
    "    max_area = 0\n",
    "    while left<right:\n",
    "        width = right-left\n",
    "        min_ht = min(height[left],height[right])\n",
    "        area = width*min_ht\n",
    "        max_area = max(max_area, area)\n",
    "\n",
    "        if height[left]<height[right]:\n",
    "            left+=1\n",
    "        else:\n",
    "            right-=1\n",
    "    return max_area\n",
    "height = [1,8,6,2,5,4,8,3,7]\n",
    "container(height)\n"
   ]
  },
  {
   "cell_type": "code",
   "execution_count": null,
   "id": "55fc43bc",
   "metadata": {},
   "outputs": [
    {
     "data": {
      "text/plain": [
       "4"
      ]
     },
     "execution_count": 13,
     "metadata": {},
     "output_type": "execute_result"
    }
   ],
   "source": [
    "# longest consecutive sub_array\n",
    "def longest_consecutive(nums):\n",
    "    if not nums:\n",
    "        return 0\n",
    "    \n",
    "    num_set = set(nums)\n",
    "    longest = 0\n",
    "\n",
    "    for num in num_set:\n",
    "        if num-1 not in num_set:\n",
    "            current_sum = num\n",
    "            streak = 1\n",
    "            while current_sum+1 in num_set:\n",
    "                current_sum+=1\n",
    "                streak+=1\n",
    "            longest = max(longest,streak)\n",
    "    return longest\n",
    "    \n",
    "nums = [100, 4, 200, 1, 3, 2]\n",
    "longest_consecutive(nums)"
   ]
  },
  {
   "cell_type": "code",
   "execution_count": 1,
   "id": "3dbb4f89",
   "metadata": {},
   "outputs": [
    {
     "data": {
      "text/plain": [
       "3"
      ]
     },
     "execution_count": 1,
     "metadata": {},
     "output_type": "execute_result"
    }
   ],
   "source": [
    "# missing number:\n",
    "def missing_num(nums):\n",
    "    n = len(nums)\n",
    "    total_sum = n*(n+1)//2\n",
    "    current_sum = sum(nums)\n",
    "    missing_number = total_sum-current_sum\n",
    "    return missing_number\n",
    "nums = [0,1,2,4]\n",
    "missing_num(nums)"
   ]
  },
  {
   "cell_type": "code",
   "execution_count": 14,
   "id": "1b0ddb58",
   "metadata": {},
   "outputs": [
    {
     "data": {
      "text/plain": [
       "2"
      ]
     },
     "execution_count": 14,
     "metadata": {},
     "output_type": "execute_result"
    }
   ],
   "source": [
    "# FIND THE DUPLICATE  NUMBER:\n",
    "def duplicate(nums):\n",
    "    n = len(nums)\n",
    "    arr = [0]*n\n",
    "    for i in nums:\n",
    "        if arr[i] == -1:   # means num in index is already visited \n",
    "            return i       # return duplicate\n",
    "        arr[i] = -1        # mark index is visited\n",
    "    return -1              # return -1 if duplicate not found\n",
    "    \n",
    "nums = [1,3,4,2,2]\n",
    "duplicate(nums)"
   ]
  },
  {
   "cell_type": "code",
   "execution_count": null,
   "id": "81bef1a3",
   "metadata": {},
   "outputs": [],
   "source": []
  }
 ],
 "metadata": {
  "kernelspec": {
   "display_name": "Python 3",
   "language": "python",
   "name": "python3"
  },
  "language_info": {
   "codemirror_mode": {
    "name": "ipython",
    "version": 3
   },
   "file_extension": ".py",
   "mimetype": "text/x-python",
   "name": "python",
   "nbconvert_exporter": "python",
   "pygments_lexer": "ipython3",
   "version": "3.13.3"
  }
 },
 "nbformat": 4,
 "nbformat_minor": 5
}
